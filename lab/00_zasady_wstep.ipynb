{
 "cells": [
  {
   "cell_type": "markdown",
   "metadata": {},
   "source": [
    "# Środowisko pracy\n",
    "\n",
    "Na zajęciach będziemy korzystać z języka Python w wersji 3.10 (lub nowszej) oraz zestawu konkretnych pakietów. Na własną odpowiedzialność można korzystać z innych wersji Pythona. Poprzednie wersje Pythona (w szczególności 2.x) nie są zalecane i mogą nie być kompatybilne z notebookami! Zalecamy korzystanie z Linuxa lub MacOSa, nie testowaliśmy notebooków na Windowsie.\n",
    "\n",
    "## Lokalnie\n",
    "\n",
    "1. Ściągnąć repozytorium przedmiotu: \n",
    "    ```\n",
    "    git clone https://github.com/gmum/ml2024-25\n",
    "    ```  \n",
    "2. Ściągnąć oraz zainstalować minicondę: https://conda.io/en/latest/miniconda.html (niewymagane jeśli zainstalowana jest `Anaconda`)  \n",
    "Na windowsie: uruchomić `Anaconda Prompt`\n",
    "3. Stworzyć środowisko razem z wymaganymi paczkami:  \n",
    "    ```\n",
    "    conda create --name ml python=3.10 numpy=1.22.2 scipy=1.11.1 matplotlib=3.7.2 scikit-learn=1.2.0 jupyter\n",
    "    ```\n",
    "4. Aktywować środowisko:\n",
    "Unix/MacOS: `conda activate ml`  \n",
    "Windows: w `Anaconda Prompt`: `activate ml`\n",
    "5.  Doinstalować PyTorcha: https://pytorch.org/  (2.0.1)\n",
    " * GPU: `conda install pytorch torchvision torchaudio pytorch-cuda=11.7 -c pytorch -c nvidia`\n",
    " * CPU only: `conda install pytorch torchvision torchaudio cpuonly -c pytorch`\n",
    "6. W folderze repo odpalić serwer jupytera: `jupyter lab`\n",
    "7. Sprawdzić w przeglądarce czy wszystko działa\n",
    "8. Zachęcamy do używania edytorów notebooków zintegrowanych z IDE, np. PyCharm lub VSCode.\n",
    "\n",
    "(dla użytkowników Dockera) można skorzystać z `nvcr.io/nvidia/pytorch:23.08-py3`\n",
    "\n",
    "\n",
    "## Zmiana git remote\n",
    "\n",
    "1. Po ściąganiu remote jest podpięty pod wspólne repo. Sprawdzamy to poleceniem `git remote -v`:\n",
    "\n",
    "    ```\n",
    "    origin  https://github.com/gmum/ml2024-25.git (fetch)\n",
    "    origin  https://github.com/gmum/ml2024-25.git (push)\n",
    "    ```\n",
    "\n",
    "2. Tworzymy własne repozytorium na github\n",
    "\n",
    "3. Zmieniamy push repo\n",
    "   ```\n",
    "   git remote set-url --push origin <YOUR REPO LINK>\n",
    "   ```\n",
    "4. Sprawdzamy zmiany poleceniem `git remote -v`\n",
    "    ```\n",
    "    origin  https://github.com/gmum/ml2024-25.git (fetch)\n",
    "    origin  <YOUR REPO LINK> (push)\n",
    "    ```\n"
   ]
  },
  {
   "cell_type": "code",
   "execution_count": null,
   "metadata": {
    "collapsed": false,
    "is_executing": true
   },
   "outputs": [],
   "source": [
    "### Test środowiska"
   ]
  },
  {
   "cell_type": "code",
   "execution_count": 3,
   "metadata": {},
   "outputs": [],
   "source": [
    "import matplotlib\n",
    "import matplotlib.pyplot as plt\n",
    "import numpy as np\n",
    "import scipy\n",
    "import sklearn\n",
    "import torch"
   ]
  },
  {
   "cell_type": "code",
   "execution_count": null,
   "metadata": {
    "collapsed": false
   },
   "outputs": [],
   "source": [
    "### Test PyTorch GPU"
   ]
  },
  {
   "cell_type": "code",
   "execution_count": null,
   "metadata": {
    "collapsed": false
   },
   "outputs": [],
   "source": [
    "t = torch.tensor([1,2,3])\n",
    "t.cuda()"
   ]
  },
  {
   "cell_type": "markdown",
   "metadata": {},
   "source": [
    "## Colaboratory (opcjonalnie)\n",
    "W przyszłości do notebooków mogą być potrzebne większe zasoby obliczeniowe. W tym celu będziemy korzystać z narzędzia [Google Colaboratory](https://colab.research.google.com/), które udostępnia za darmo dostęp do GPU. Opcjonalnie można teraz przetestować jego działanie:\n",
    "\n",
    "1. Wrzucić folder z repo na swojego Google Drive.\n",
    "\n",
    "2. Otworzyć ten plik i z dostępnych aplikacji wybrać `Colaboratory`\n",
    "\n",
    "3. Sprawdzić powyższą komórką czy wszystko działa."
   ]
  },
  {
   "cell_type": "markdown",
   "metadata": {},
   "source": [
    "# Wstęp do pakietów naukowych: NumPy\n",
    "\n",
    "Na początek polecam zaznajomić się z podstawami NumPy, polecany tutorial na kompletny wstęp: https://numpy.org/devdocs/user/absolute_beginners.html\n",
    "Dodatkowo z kolejnej części https://numpy.org/devdocs/user/basics.html warto zaznajomić się z: Data types, Array creation, Indexing, Broadcasting.\n",
    "\n",
    "Rada ogólna: nie bać się \"googlowania\" i czytania dokumentacji.\n",
    "\n",
    "**Kolejne zajęcia będą zakładać znajomość podstaw korzystania z numpy. Dla osób, które nie potrafią samodzielnie wykonać poniższych ćwiczeń, przetworzenie materiału z powyższych poradników jest obowiązkowe.**"
   ]
  },
  {
   "cell_type": "markdown",
   "metadata": {},
   "source": [
    "## Zadanie 1. \n",
    "Używając funkcji [`np.random.normal`](https://docs.scipy.org/doc/numpy-1.15.0/reference/generated/numpy.random.normal.html) wylosować dwie macierze **różnych** rozmiarów, i następnie przenożyć je przez siebie macierzowo tak aby otrzymać macierz rozmiaru `9x6`."
   ]
  },
  {
   "cell_type": "code",
   "execution_count": 5,
   "metadata": {},
   "outputs": [
    {
     "name": "stdout",
     "output_type": "stream",
     "text": [
      "[(9, 4), (4, 6), (9, 6)]\n"
     ]
    }
   ],
   "source": [
    "A = np.random.normal(size=(9, 4))\n",
    "B = np.random.normal(size=(4, 6))\n",
    "\n",
    "C: np.ndarray = np.dot(A, B)\n",
    "\n",
    "print([m.shape for m in [A, B, C]])\n",
    "\n",
    "assert A.shape != B.shape\n",
    "assert C.shape == (9, 6)"
   ]
  },
  {
   "cell_type": "markdown",
   "metadata": {},
   "source": [
    "## Zadanie 2.\n",
    "\n",
    "Zaimplementować funkcję $\\sigma$, która przyjmuje macierz numpy $X$ (**uwaga**: nie mylić z `np.matrix`!) i zwraca macierz tego samego rozmiaru z wartościami funkcji:\n",
    "$$\\sigma(x) = \\frac{1}{1 + e^{-x}}$$\n",
    "odpowiednio dla każdego $x$.\n",
    "\n",
    "Hint: [`np.e`](https://docs.scipy.org/doc/numpy/reference/constants.html#numpy.e)"
   ]
  },
  {
   "cell_type": "code",
   "execution_count": 6,
   "metadata": {},
   "outputs": [],
   "source": [
    "def sigmoid(x: np.ndarray) -> np.ndarray:\n",
    "    return 1 / (1 + np.exp(-x))\n",
    "\n",
    "\n",
    "X = np.random.uniform(low=-10, high=10, size=(1000, 2000))\n",
    "\n",
    "assert sigmoid(X).max() <= 1.0\n",
    "assert sigmoid(X).min() >= 0.0"
   ]
  },
  {
   "cell_type": "code",
   "execution_count": 7,
   "metadata": {},
   "outputs": [
    {
     "name": "stdout",
     "output_type": "stream",
     "text": [
      "14.9 ms ± 280 μs per loop (mean ± std. dev. of 7 runs, 100 loops each)\n"
     ]
    }
   ],
   "source": [
    "%%timeit n=10\n",
    "sigmoid(X)"
   ]
  },
  {
   "cell_type": "markdown",
   "metadata": {},
   "source": [
    "## Zadanie 3.\n",
    "Ustandaryzować wartości w macierzy $X$ per kolumna, tzn. dla każdej wartości $x$ w kolumnie wykonać:\n",
    "\n",
    "$$ f(x_{ij}) = \\frac{x_{ij} - \\mu_j}{\\sigma_j} $$\n",
    "\n",
    "gdzie $\\mu_j$ to średnia wartość kolumny $j$, a $\\sigma_j$ to odchylenie standardowe kolumny $j$."
   ]
  },
  {
   "cell_type": "code",
   "execution_count": 8,
   "metadata": {},
   "outputs": [],
   "source": [
    "X = np.random.uniform(low=-10, high=10, size=(100, 10))\n",
    "\n",
    "X_hat: np.ndarray = (X - X.mean(0)) / X.std(0)\n",
    "\n",
    "assert np.allclose(X_hat.mean(0), 0.0)\n",
    "assert np.allclose(X_hat.std(0), 1.0)"
   ]
  },
  {
   "cell_type": "markdown",
   "metadata": {},
   "source": [
    "## Zadanie 4. \n",
    "\n",
    "Dla funkcji $\\sigma$ z Zadania 2, narysować jej wykres dla argumentów z zakresu $(-10, 10)$. Użyjemy do tego funkcji `plot` z biblioteki [matplotlib](https://matplotlib.org/).\n",
    "\n",
    "Narysowany wykres powinien przypominać poniższy:\n",
    "\n",
    "![sigmoid](https://raw.githubusercontent.com/gmum/ml2024-25/main/lab/resources/sigmoid.png)"
   ]
  },
  {
   "cell_type": "code",
   "execution_count": 9,
   "metadata": {},
   "outputs": [
    {
     "data": {
      "image/png": "[encoded data removed]",
      "text/plain": [
       "<Figure size 640x480 with 1 Axes>"
      ]
     },
     "metadata": {},
     "output_type": "display_data"
    }
   ],
   "source": [
    "X = np.linspace(-10, 10, 1000)\n",
    "\n",
    "Y = sigmoid(X)\n",
    "\n",
    "plt.plot(X, Y)\n",
    "plt.show()\n"
   ]
  }
 ],
 "metadata": {
  "kernelspec": {
   "display_name": "ml",
   "language": "python",
   "name": "python3"
  },
  "language_info": {
   "codemirror_mode": {
    "name": "ipython",
    "version": 3
   },
   "file_extension": ".py",
   "mimetype": "text/x-python",
   "name": "python",
   "nbconvert_exporter": "python",
   "pygments_lexer": "ipython3",
   "version": "3.10.15"
  }
 },
 "nbformat": 4,
 "nbformat_minor": 4
}
